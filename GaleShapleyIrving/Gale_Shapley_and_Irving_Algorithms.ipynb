{
  "nbformat": 4,
  "nbformat_minor": 0,
  "metadata": {
    "colab": {
      "name": "Gale-Shapley and Irving Algorithms",
      "provenance": [],
      "collapsed_sections": [
        "o6nOEMJAaC7D",
        "MDuynI20akb5",
        "XqWm56OHfuS2",
        "j9aT7gyD_i99",
        "B_hYNTUpjpz5",
        "dGbRaysGLUH0"
      ]
    },
    "kernelspec": {
      "name": "python3",
      "display_name": "Python 3"
    }
  },
  "cells": [
    {
      "cell_type": "code",
      "metadata": {
        "colab": {
          "base_uri": "https://localhost:8080/"
        },
        "id": "I7u3TvPYlI4s",
        "outputId": "c53b4920-8d7a-4e1d-b550-3f0be10ed71d"
      },
      "source": [
        "%pylab inline\n",
        "import pandas as pd\n",
        "import numpy as np\n",
        "from collections import Counter\n",
        "from copy import copy"
      ],
      "execution_count": 3,
      "outputs": [
        {
          "output_type": "stream",
          "text": [
            "Populating the interactive namespace from numpy and matplotlib\n"
          ],
          "name": "stdout"
        }
      ]
    },
    {
      "cell_type": "markdown",
      "metadata": {
        "id": "o6nOEMJAaC7D"
      },
      "source": [
        "# **n=4**"
      ]
    },
    {
      "cell_type": "markdown",
      "metadata": {
        "id": "MDuynI20akb5"
      },
      "source": [
        "## **Best case**"
      ]
    },
    {
      "cell_type": "code",
      "metadata": {
        "id": "HFE-kkLIEcNU"
      },
      "source": [
        "man_list = ['m1', 'm2', 'm3', 'm4']\n",
        "women_list = ['w1', 'w2', 'w3', 'w4']"
      ],
      "execution_count": 94,
      "outputs": []
    },
    {
      "cell_type": "code",
      "metadata": {
        "id": "uEyH9dakEcNV"
      },
      "source": [
        "man_df = pd.DataFrame({'m1': [1,2,3,4], 'm2': [4,1,2,3], 'm3': [3,4,1,2], 'm4': [2,3,4,1]})\n",
        "man_df.index = women_list"
      ],
      "execution_count": 95,
      "outputs": []
    },
    {
      "cell_type": "code",
      "metadata": {
        "id": "L6xFE5mMEcNV"
      },
      "source": [
        "women_df = pd.DataFrame({'w1': [1,2,3,4], 'w2': [4,1,2,3], 'w3': [3,4,1,2], 'w4': [2,3,4,1]})\n",
        "women_df.index = man_list"
      ],
      "execution_count": 96,
      "outputs": []
    },
    {
      "cell_type": "code",
      "metadata": {
        "colab": {
          "base_uri": "https://localhost:8080/",
          "height": 173
        },
        "id": "sCYcOEVlEcNV",
        "outputId": "7b8dd7cc-cea0-4d07-d73b-4577724f7146"
      },
      "source": [
        "women_df"
      ],
      "execution_count": 97,
      "outputs": [
        {
          "output_type": "execute_result",
          "data": {
            "text/html": [
              "<div>\n",
              "<style scoped>\n",
              "    .dataframe tbody tr th:only-of-type {\n",
              "        vertical-align: middle;\n",
              "    }\n",
              "\n",
              "    .dataframe tbody tr th {\n",
              "        vertical-align: top;\n",
              "    }\n",
              "\n",
              "    .dataframe thead th {\n",
              "        text-align: right;\n",
              "    }\n",
              "</style>\n",
              "<table border=\"1\" class=\"dataframe\">\n",
              "  <thead>\n",
              "    <tr style=\"text-align: right;\">\n",
              "      <th></th>\n",
              "      <th>w1</th>\n",
              "      <th>w2</th>\n",
              "      <th>w3</th>\n",
              "      <th>w4</th>\n",
              "    </tr>\n",
              "  </thead>\n",
              "  <tbody>\n",
              "    <tr>\n",
              "      <th>m1</th>\n",
              "      <td>1</td>\n",
              "      <td>4</td>\n",
              "      <td>3</td>\n",
              "      <td>2</td>\n",
              "    </tr>\n",
              "    <tr>\n",
              "      <th>m2</th>\n",
              "      <td>2</td>\n",
              "      <td>1</td>\n",
              "      <td>4</td>\n",
              "      <td>3</td>\n",
              "    </tr>\n",
              "    <tr>\n",
              "      <th>m3</th>\n",
              "      <td>3</td>\n",
              "      <td>2</td>\n",
              "      <td>1</td>\n",
              "      <td>4</td>\n",
              "    </tr>\n",
              "    <tr>\n",
              "      <th>m4</th>\n",
              "      <td>4</td>\n",
              "      <td>3</td>\n",
              "      <td>2</td>\n",
              "      <td>1</td>\n",
              "    </tr>\n",
              "  </tbody>\n",
              "</table>\n",
              "</div>"
            ],
            "text/plain": [
              "    w1  w2  w3  w4\n",
              "m1   1   4   3   2\n",
              "m2   2   1   4   3\n",
              "m3   3   2   1   4\n",
              "m4   4   3   2   1"
            ]
          },
          "metadata": {
            "tags": []
          },
          "execution_count": 97
        }
      ]
    },
    {
      "cell_type": "code",
      "metadata": {
        "colab": {
          "base_uri": "https://localhost:8080/",
          "height": 173
        },
        "id": "0xv7S4avEcNa",
        "outputId": "bd7670f2-b666-42f7-95cd-b5c5b6b93c2d"
      },
      "source": [
        "man_df"
      ],
      "execution_count": 98,
      "outputs": [
        {
          "output_type": "execute_result",
          "data": {
            "text/html": [
              "<div>\n",
              "<style scoped>\n",
              "    .dataframe tbody tr th:only-of-type {\n",
              "        vertical-align: middle;\n",
              "    }\n",
              "\n",
              "    .dataframe tbody tr th {\n",
              "        vertical-align: top;\n",
              "    }\n",
              "\n",
              "    .dataframe thead th {\n",
              "        text-align: right;\n",
              "    }\n",
              "</style>\n",
              "<table border=\"1\" class=\"dataframe\">\n",
              "  <thead>\n",
              "    <tr style=\"text-align: right;\">\n",
              "      <th></th>\n",
              "      <th>m1</th>\n",
              "      <th>m2</th>\n",
              "      <th>m3</th>\n",
              "      <th>m4</th>\n",
              "    </tr>\n",
              "  </thead>\n",
              "  <tbody>\n",
              "    <tr>\n",
              "      <th>w1</th>\n",
              "      <td>1</td>\n",
              "      <td>4</td>\n",
              "      <td>3</td>\n",
              "      <td>2</td>\n",
              "    </tr>\n",
              "    <tr>\n",
              "      <th>w2</th>\n",
              "      <td>2</td>\n",
              "      <td>1</td>\n",
              "      <td>4</td>\n",
              "      <td>3</td>\n",
              "    </tr>\n",
              "    <tr>\n",
              "      <th>w3</th>\n",
              "      <td>3</td>\n",
              "      <td>2</td>\n",
              "      <td>1</td>\n",
              "      <td>4</td>\n",
              "    </tr>\n",
              "    <tr>\n",
              "      <th>w4</th>\n",
              "      <td>4</td>\n",
              "      <td>3</td>\n",
              "      <td>2</td>\n",
              "      <td>1</td>\n",
              "    </tr>\n",
              "  </tbody>\n",
              "</table>\n",
              "</div>"
            ],
            "text/plain": [
              "    m1  m2  m3  m4\n",
              "w1   1   4   3   2\n",
              "w2   2   1   4   3\n",
              "w3   3   2   1   4\n",
              "w4   4   3   2   1"
            ]
          },
          "metadata": {
            "tags": []
          },
          "execution_count": 98
        }
      ]
    },
    {
      "cell_type": "code",
      "metadata": {
        "id": "Mrp9PKV0EcNb"
      },
      "source": [
        "hombres_preferencias = {'m1': [1,2,3,4], 'm2': [4,1,2,3], 'm3': [3,4,1,2], 'm4': [2,3,4,1]}\n",
        "mujeres_preferencias = {'w1': [1,2,3,4], 'w2': [4,1,2,3], 'w3': [3,4,1,2], 'w4': [2,3,4,1]}"
      ],
      "execution_count": 99,
      "outputs": []
    },
    {
      "cell_type": "code",
      "metadata": {
        "id": "xxS-6XpvEcNb"
      },
      "source": [
        "# waiting list of men that were able to create pair on each iteration\n",
        "waiting_list = []\n",
        "# dict to store created pairs\n",
        "proposals = {}\n",
        "# variable to count number of iterations\n",
        "count = 0"
      ],
      "execution_count": 100,
      "outputs": []
    },
    {
      "cell_type": "code",
      "metadata": {
        "colab": {
          "base_uri": "https://localhost:8080/"
        },
        "id": "nVi9dpzOEcNb",
        "outputId": "0b2b3417-e117-41d2-ed71-200471f3f072"
      },
      "source": [
        "# while not all men have pairs\n",
        "numerodelman = 0\n",
        "while len(waiting_list)<len(man_list):\n",
        "    # man makes proposals\n",
        "    for man in man_list:\n",
        "        if man not in waiting_list:\n",
        "            # Todos los hombres hacen su propuesta a la mujer top de su lista, ese registro de propuestas se guarda en el diccionario proposals\n",
        "            women = women_list\n",
        "            list_of_women_man = hombres_preferencias[man]\n",
        "            posicion = 0\n",
        "            id = list_of_women_man[0]\n",
        "            for i in range(len(man_list)-1):\n",
        "              p = list_of_women_man[i+1]\n",
        "              if p<id and p!=10:\n",
        "                id = list_of_women_man[i+1]\n",
        "                posicion = i+1\n",
        "            best_choice = women[posicion]\n",
        "            list_of_man_women = mujeres_preferencias[best_choice]\n",
        "            number_woman = list_of_man_women[numerodelman]\n",
        "            proposals[(man, best_choice)]=(list_of_women_man[posicion], number_woman)\n",
        "        numerodelman+=1\n",
        "\n",
        "\n",
        "\n",
        "\n",
        "    #Cuenta la cantidad de propuestas que tiene cada mujer\n",
        "    overlays = Counter([key[1] for key in proposals.keys()])\n",
        "\n",
        "\n",
        "    #Ciclo para que la mujer escoja su mejor opción\n",
        "    for women in overlays.keys():\n",
        "        if overlays[women]>1:\n",
        "            # pairs to drop from proposals\n",
        "            pairs_to_drop = sorted({pair: proposals[pair] for pair in proposals.keys() \n",
        "                    if women in pair}.items(), \n",
        "                   key=lambda x: x[1][1]\n",
        "                  )[1:]\n",
        "            # if man was rejected by woman\n",
        "            # there is no pint for him to make proposal \n",
        "            # second time to the same woman\n",
        "            for p_to_drop in pairs_to_drop:\n",
        "                drop = list(p_to_drop)\n",
        "                eliminate = drop[0]\n",
        "                del proposals[eliminate]\n",
        "                o = 0;\n",
        "                for mujer in women_list:\n",
        "                  if eliminate[1] == mujer:\n",
        "                    break\n",
        "                  o+=1\n",
        "                hombres_preferencias[eliminate[0]][o] = 10\n",
        "\n",
        "    # man who successfully created pairs must be added to the waiting list \n",
        "    waiting_list = [man[0] for man in proposals.keys()]\n",
        "    # update counter\n",
        "    print(\"Nueva iteracion\")\n",
        "    count+=1\n",
        "    numerodelman=0"
      ],
      "execution_count": 101,
      "outputs": [
        {
          "output_type": "stream",
          "text": [
            "Nueva iteracion\n"
          ],
          "name": "stdout"
        }
      ]
    },
    {
      "cell_type": "code",
      "metadata": {
        "colab": {
          "base_uri": "https://localhost:8080/"
        },
        "id": "-evQP_RMEcNc",
        "outputId": "2b483778-c3d0-46e7-9fd7-db450abaf747"
      },
      "source": [
        "proposals"
      ],
      "execution_count": 102,
      "outputs": [
        {
          "output_type": "execute_result",
          "data": {
            "text/plain": [
              "{('m1', 'w1'): (1, 1),\n",
              " ('m2', 'w2'): (1, 1),\n",
              " ('m3', 'w3'): (1, 1),\n",
              " ('m4', 'w4'): (1, 1)}"
            ]
          },
          "metadata": {
            "tags": []
          },
          "execution_count": 102
        }
      ]
    },
    {
      "cell_type": "code",
      "metadata": {
        "colab": {
          "base_uri": "https://localhost:8080/"
        },
        "id": "gAN04DmXEcNd",
        "outputId": "78c779d5-4b54-4b1d-e747-f74b78bf26d8"
      },
      "source": [
        "count"
      ],
      "execution_count": 103,
      "outputs": [
        {
          "output_type": "execute_result",
          "data": {
            "text/plain": [
              "1"
            ]
          },
          "metadata": {
            "tags": []
          },
          "execution_count": 103
        }
      ]
    },
    {
      "cell_type": "markdown",
      "metadata": {
        "id": "XqWm56OHfuS2"
      },
      "source": [
        "## **Worst case**"
      ]
    },
    {
      "cell_type": "code",
      "metadata": {
        "id": "1K8S-xQecb4J"
      },
      "source": [
        "man_list = ['m1', 'm2', 'm3', 'm4']\n",
        "women_list = ['w1', 'w2', 'w3', 'w4']"
      ],
      "execution_count": 4,
      "outputs": []
    },
    {
      "cell_type": "code",
      "metadata": {
        "id": "PvO88EPhcb4L"
      },
      "source": [
        "man_df = pd.DataFrame({'m1': [1,2,3,4], 'm2': [3,1,2,4], 'm3': [2,3,1,4], 'm4': [1,2,3,4]})\n",
        "man_df.index = women_list"
      ],
      "execution_count": 5,
      "outputs": []
    },
    {
      "cell_type": "code",
      "metadata": {
        "id": "KzQVKhyKcb4L"
      },
      "source": [
        "women_df = pd.DataFrame({'w1': [4,1,2,3], 'w2': [3,4,1,2], 'w3': [2,3,4,1], 'w4': [1,2,3,4]})\n",
        "women_df.index = man_list"
      ],
      "execution_count": 6,
      "outputs": []
    },
    {
      "cell_type": "code",
      "metadata": {
        "colab": {
          "base_uri": "https://localhost:8080/",
          "height": 173
        },
        "id": "F814nQekcb4L",
        "outputId": "8a32a477-bb6e-4f6d-c8a0-e6d0b4b37f4c"
      },
      "source": [
        "women_df"
      ],
      "execution_count": 7,
      "outputs": [
        {
          "output_type": "execute_result",
          "data": {
            "text/html": [
              "<div>\n",
              "<style scoped>\n",
              "    .dataframe tbody tr th:only-of-type {\n",
              "        vertical-align: middle;\n",
              "    }\n",
              "\n",
              "    .dataframe tbody tr th {\n",
              "        vertical-align: top;\n",
              "    }\n",
              "\n",
              "    .dataframe thead th {\n",
              "        text-align: right;\n",
              "    }\n",
              "</style>\n",
              "<table border=\"1\" class=\"dataframe\">\n",
              "  <thead>\n",
              "    <tr style=\"text-align: right;\">\n",
              "      <th></th>\n",
              "      <th>w1</th>\n",
              "      <th>w2</th>\n",
              "      <th>w3</th>\n",
              "      <th>w4</th>\n",
              "    </tr>\n",
              "  </thead>\n",
              "  <tbody>\n",
              "    <tr>\n",
              "      <th>m1</th>\n",
              "      <td>4</td>\n",
              "      <td>3</td>\n",
              "      <td>2</td>\n",
              "      <td>1</td>\n",
              "    </tr>\n",
              "    <tr>\n",
              "      <th>m2</th>\n",
              "      <td>1</td>\n",
              "      <td>4</td>\n",
              "      <td>3</td>\n",
              "      <td>2</td>\n",
              "    </tr>\n",
              "    <tr>\n",
              "      <th>m3</th>\n",
              "      <td>2</td>\n",
              "      <td>1</td>\n",
              "      <td>4</td>\n",
              "      <td>3</td>\n",
              "    </tr>\n",
              "    <tr>\n",
              "      <th>m4</th>\n",
              "      <td>3</td>\n",
              "      <td>2</td>\n",
              "      <td>1</td>\n",
              "      <td>4</td>\n",
              "    </tr>\n",
              "  </tbody>\n",
              "</table>\n",
              "</div>"
            ],
            "text/plain": [
              "    w1  w2  w3  w4\n",
              "m1   4   3   2   1\n",
              "m2   1   4   3   2\n",
              "m3   2   1   4   3\n",
              "m4   3   2   1   4"
            ]
          },
          "metadata": {
            "tags": []
          },
          "execution_count": 7
        }
      ]
    },
    {
      "cell_type": "code",
      "metadata": {
        "colab": {
          "base_uri": "https://localhost:8080/",
          "height": 173
        },
        "id": "3zkxigrncb4P",
        "outputId": "9c7e6bb2-3edc-46ea-e211-dd566f41b0cb"
      },
      "source": [
        "man_df"
      ],
      "execution_count": 8,
      "outputs": [
        {
          "output_type": "execute_result",
          "data": {
            "text/html": [
              "<div>\n",
              "<style scoped>\n",
              "    .dataframe tbody tr th:only-of-type {\n",
              "        vertical-align: middle;\n",
              "    }\n",
              "\n",
              "    .dataframe tbody tr th {\n",
              "        vertical-align: top;\n",
              "    }\n",
              "\n",
              "    .dataframe thead th {\n",
              "        text-align: right;\n",
              "    }\n",
              "</style>\n",
              "<table border=\"1\" class=\"dataframe\">\n",
              "  <thead>\n",
              "    <tr style=\"text-align: right;\">\n",
              "      <th></th>\n",
              "      <th>m1</th>\n",
              "      <th>m2</th>\n",
              "      <th>m3</th>\n",
              "      <th>m4</th>\n",
              "    </tr>\n",
              "  </thead>\n",
              "  <tbody>\n",
              "    <tr>\n",
              "      <th>w1</th>\n",
              "      <td>1</td>\n",
              "      <td>3</td>\n",
              "      <td>2</td>\n",
              "      <td>1</td>\n",
              "    </tr>\n",
              "    <tr>\n",
              "      <th>w2</th>\n",
              "      <td>2</td>\n",
              "      <td>1</td>\n",
              "      <td>3</td>\n",
              "      <td>2</td>\n",
              "    </tr>\n",
              "    <tr>\n",
              "      <th>w3</th>\n",
              "      <td>3</td>\n",
              "      <td>2</td>\n",
              "      <td>1</td>\n",
              "      <td>3</td>\n",
              "    </tr>\n",
              "    <tr>\n",
              "      <th>w4</th>\n",
              "      <td>4</td>\n",
              "      <td>4</td>\n",
              "      <td>4</td>\n",
              "      <td>4</td>\n",
              "    </tr>\n",
              "  </tbody>\n",
              "</table>\n",
              "</div>"
            ],
            "text/plain": [
              "    m1  m2  m3  m4\n",
              "w1   1   3   2   1\n",
              "w2   2   1   3   2\n",
              "w3   3   2   1   3\n",
              "w4   4   4   4   4"
            ]
          },
          "metadata": {
            "tags": []
          },
          "execution_count": 8
        }
      ]
    },
    {
      "cell_type": "code",
      "metadata": {
        "id": "940M7kBvKT-Q"
      },
      "source": [
        "hombres_preferencias = {'m1': [1,2,3,4], 'm2': [3,1,2,4], 'm3': [2,3,1,4], 'm4': [1,2,3,4]}\n",
        "mujeres_preferencias = {'w1': [4,1,2,3], 'w2': [3,4,1,2], 'w3': [2,3,4,1], 'w4': [1,2,3,4]}"
      ],
      "execution_count": 9,
      "outputs": []
    },
    {
      "cell_type": "code",
      "metadata": {
        "id": "4egPuyu5cb4Q"
      },
      "source": [
        "# waiting list of men that were able to create pair on each iteration\n",
        "waiting_list = []\n",
        "# dict to store created pairs\n",
        "proposals = {}\n",
        "# variable to count number of iterations\n",
        "count = 0"
      ],
      "execution_count": 10,
      "outputs": []
    },
    {
      "cell_type": "code",
      "metadata": {
        "id": "oZLp7KIrcb4Q"
      },
      "source": [
        "# while not all men have pairs\n",
        "numerodelman = 0\n",
        "while len(waiting_list)<len(man_list):\n",
        "    # man makes proposals\n",
        "    for man in man_list:\n",
        "        if man not in waiting_list:\n",
        "            # Todos los hombres hacen su propuesta a la mujer top de su lista, ese registro de propuestas se guarda en el diccionario proposals\n",
        "            women = women_list\n",
        "            list_of_women_man = hombres_preferencias[man]\n",
        "            posicion = 0\n",
        "            id = list_of_women_man[0]\n",
        "            for i in range(len(man_list)-1):\n",
        "              p = list_of_women_man[i+1]\n",
        "              if p<id and p!=10:\n",
        "                id = list_of_women_man[i+1]\n",
        "                posicion = i+1\n",
        "            best_choice = women[posicion]\n",
        "            list_of_man_women = mujeres_preferencias[best_choice]\n",
        "            number_woman = list_of_man_women[numerodelman]\n",
        "            proposals[(man, best_choice)]=(list_of_women_man[posicion], number_woman)\n",
        "        numerodelman+=1\n",
        "\n",
        "\n",
        "\n",
        "\n",
        "    #Cuenta la cantidad de propuestas que tiene cada mujer\n",
        "    overlays = Counter([key[1] for key in proposals.keys()])\n",
        "\n",
        "\n",
        "    #Ciclo para que la mujer escoja su mejor opción\n",
        "    for women in overlays.keys():\n",
        "        if overlays[women]>1:\n",
        "            # pairs to drop from proposals\n",
        "            pairs_to_drop = sorted({pair: proposals[pair] for pair in proposals.keys() \n",
        "                    if women in pair}.items(), \n",
        "                   key=lambda x: x[1][1]\n",
        "                  )[1:]\n",
        "            # if man was rejected by woman\n",
        "            # there is no pint for him to make proposal \n",
        "            # second time to the same woman\n",
        "            for p_to_drop in pairs_to_drop:\n",
        "                drop = list(p_to_drop)\n",
        "                eliminate = drop[0]\n",
        "                del proposals[eliminate]\n",
        "                o = 0;\n",
        "                for mujer in women_list:\n",
        "                  if eliminate[1] == mujer:\n",
        "                    break\n",
        "                  o+=1\n",
        "                hombres_preferencias[eliminate[0]][o] = 10\n",
        "\n",
        "    # man who successfully created pairs must be added to the waiting list \n",
        "    waiting_list = [man[0] for man in proposals.keys()]\n",
        "    # update counter\n",
        "    count+=1\n",
        "    numerodelman=0"
      ],
      "execution_count": 12,
      "outputs": []
    },
    {
      "cell_type": "code",
      "metadata": {
        "colab": {
          "base_uri": "https://localhost:8080/"
        },
        "id": "CsnOFtcOcb4R",
        "outputId": "53cb4bde-1c3c-45ea-da13-d8e18053e1e3"
      },
      "source": [
        "proposals"
      ],
      "execution_count": 13,
      "outputs": [
        {
          "output_type": "execute_result",
          "data": {
            "text/plain": [
              "{('m1', 'w4'): (4, 1),\n",
              " ('m2', 'w1'): (3, 1),\n",
              " ('m3', 'w2'): (3, 1),\n",
              " ('m4', 'w3'): (3, 1)}"
            ]
          },
          "metadata": {
            "tags": []
          },
          "execution_count": 13
        }
      ]
    },
    {
      "cell_type": "code",
      "metadata": {
        "colab": {
          "base_uri": "https://localhost:8080/"
        },
        "id": "tUcZyQkIcb4S",
        "outputId": "cbbd09a2-bee7-4483-f69b-43f2a02e6b6f"
      },
      "source": [
        "count"
      ],
      "execution_count": 14,
      "outputs": [
        {
          "output_type": "execute_result",
          "data": {
            "text/plain": [
              "10"
            ]
          },
          "metadata": {
            "tags": []
          },
          "execution_count": 14
        }
      ]
    },
    {
      "cell_type": "markdown",
      "metadata": {
        "id": "j9aT7gyD_i99"
      },
      "source": [
        "# **n=40**"
      ]
    },
    {
      "cell_type": "markdown",
      "metadata": {
        "id": "B_hYNTUpjpz5"
      },
      "source": [
        "## **Best case**"
      ]
    },
    {
      "cell_type": "code",
      "metadata": {
        "id": "d7COcgvRjuvy"
      },
      "source": [
        "man_list = ['m'+ str(i+1) for i in range(40)]\n",
        "women_list = ['w'+ str(i+1) for i in range(40)]"
      ],
      "execution_count": 45,
      "outputs": []
    },
    {
      "cell_type": "code",
      "metadata": {
        "id": "gF6bGCumjyAg"
      },
      "source": [
        "hombres_preferencias = {}\n",
        "mujeres_preferencias = {}\n",
        "t=0\n",
        "for i in range(40):\n",
        "  number_list_m = []\n",
        "  number_list_w = []\n",
        "  for j in range(40-t):\n",
        "    number_list_m.append(j+1)\n",
        "    number_list_w.append(j+1)\n",
        "  nueva_lista_m = []\n",
        "  nueva_lista_w = []\n",
        "  for j in range(40-t, 40):\n",
        "    nueva_lista_m.append(j+1)\n",
        "    nueva_lista_w.append(j+1)\n",
        "  mujeres_preferencias['w'+str(i+1)] = nueva_lista_w+number_list_w\n",
        "  hombres_preferencias['m'+str(i+1)] = nueva_lista_m+number_list_m\n",
        "  t+=1\n"
      ],
      "execution_count": 47,
      "outputs": []
    },
    {
      "cell_type": "code",
      "metadata": {
        "id": "xEXiArmOlZVN"
      },
      "source": [
        "# waiting list of men that were able to create pair on each iteration\n",
        "waiting_list = []\n",
        "# dict to store created pairs\n",
        "proposals = {}\n",
        "# variable to count number of iterations\n",
        "count = 0"
      ],
      "execution_count": 48,
      "outputs": []
    },
    {
      "cell_type": "code",
      "metadata": {
        "id": "HrdEzo0qlcun"
      },
      "source": [
        "# while not all men have pairs\n",
        "numerodelman = 0\n",
        "while len(waiting_list)<len(man_list):\n",
        "    # man makes proposals\n",
        "    for man in man_list:\n",
        "        if man not in waiting_list:\n",
        "            # Todos los hombres hacen su propuesta a la mujer top de su lista, ese registro de propuestas se guarda en el diccionario proposals\n",
        "            women = women_list\n",
        "            list_of_women_man = hombres_preferencias[man]\n",
        "            posicion = 0\n",
        "            id = list_of_women_man[0]\n",
        "            for i in range(len(man_list)-1):\n",
        "              p = list_of_women_man[i+1]\n",
        "              if p<id and p!=10:\n",
        "                id = list_of_women_man[i+1]\n",
        "                posicion = i+1\n",
        "            best_choice = women[posicion]\n",
        "            list_of_man_women = mujeres_preferencias[best_choice]\n",
        "            number_woman = list_of_man_women[numerodelman]\n",
        "            proposals[(man, best_choice)]=(list_of_women_man[posicion], number_woman)\n",
        "        numerodelman+=1\n",
        "\n",
        "\n",
        "\n",
        "\n",
        "    #Cuenta la cantidad de propuestas que tiene cada mujer\n",
        "    overlays = Counter([key[1] for key in proposals.keys()])\n",
        "\n",
        "\n",
        "    #Ciclo para que la mujer escoja su mejor opción\n",
        "    for women in overlays.keys():\n",
        "        if overlays[women]>1:\n",
        "            # pairs to drop from proposals\n",
        "            pairs_to_drop = sorted({pair: proposals[pair] for pair in proposals.keys() \n",
        "                    if women in pair}.items(), \n",
        "                   key=lambda x: x[1][1]\n",
        "                  )[1:]\n",
        "            # if man was rejected by woman\n",
        "            # there is no pint for him to make proposal \n",
        "            # second time to the same woman\n",
        "            for p_to_drop in pairs_to_drop:\n",
        "                drop = list(p_to_drop)\n",
        "                eliminate = drop[0]\n",
        "                del proposals[eliminate]\n",
        "                o = 0;\n",
        "                for mujer in women_list:\n",
        "                  if eliminate[1] == mujer:\n",
        "                    break\n",
        "                  o+=1\n",
        "                hombres_preferencias[eliminate[0]][o] = 10\n",
        "\n",
        "    # man who successfully created pairs must be added to the waiting list \n",
        "    waiting_list = [man[0] for man in proposals.keys()]\n",
        "    # update counter\n",
        "    count+=1\n",
        "    numerodelman=0"
      ],
      "execution_count": 49,
      "outputs": []
    },
    {
      "cell_type": "code",
      "metadata": {
        "colab": {
          "base_uri": "https://localhost:8080/"
        },
        "id": "5qUa59InliMs",
        "outputId": "af228dac-e87f-4994-f9e8-bcfac3d15cd8"
      },
      "source": [
        "proposals"
      ],
      "execution_count": 50,
      "outputs": [
        {
          "output_type": "execute_result",
          "data": {
            "text/plain": [
              "{('m1', 'w1'): (1, 1),\n",
              " ('m10', 'w10'): (1, 1),\n",
              " ('m11', 'w11'): (1, 1),\n",
              " ('m12', 'w12'): (1, 1),\n",
              " ('m13', 'w13'): (1, 1),\n",
              " ('m14', 'w14'): (1, 1),\n",
              " ('m15', 'w15'): (1, 1),\n",
              " ('m16', 'w16'): (1, 1),\n",
              " ('m17', 'w17'): (1, 1),\n",
              " ('m18', 'w18'): (1, 1),\n",
              " ('m19', 'w19'): (1, 1),\n",
              " ('m2', 'w2'): (1, 1),\n",
              " ('m20', 'w20'): (1, 1),\n",
              " ('m21', 'w21'): (1, 1),\n",
              " ('m22', 'w22'): (1, 1),\n",
              " ('m23', 'w23'): (1, 1),\n",
              " ('m24', 'w24'): (1, 1),\n",
              " ('m25', 'w25'): (1, 1),\n",
              " ('m26', 'w26'): (1, 1),\n",
              " ('m27', 'w27'): (1, 1),\n",
              " ('m28', 'w28'): (1, 1),\n",
              " ('m29', 'w29'): (1, 1),\n",
              " ('m3', 'w3'): (1, 1),\n",
              " ('m30', 'w30'): (1, 1),\n",
              " ('m31', 'w31'): (1, 1),\n",
              " ('m32', 'w32'): (1, 1),\n",
              " ('m33', 'w33'): (1, 1),\n",
              " ('m34', 'w34'): (1, 1),\n",
              " ('m35', 'w35'): (1, 1),\n",
              " ('m36', 'w36'): (1, 1),\n",
              " ('m37', 'w37'): (1, 1),\n",
              " ('m38', 'w38'): (1, 1),\n",
              " ('m39', 'w39'): (1, 1),\n",
              " ('m4', 'w4'): (1, 1),\n",
              " ('m40', 'w40'): (1, 1),\n",
              " ('m5', 'w5'): (1, 1),\n",
              " ('m6', 'w6'): (1, 1),\n",
              " ('m7', 'w7'): (1, 1),\n",
              " ('m8', 'w8'): (1, 1),\n",
              " ('m9', 'w9'): (1, 1)}"
            ]
          },
          "metadata": {
            "tags": []
          },
          "execution_count": 50
        }
      ]
    },
    {
      "cell_type": "code",
      "metadata": {
        "colab": {
          "base_uri": "https://localhost:8080/"
        },
        "id": "qeiwNpcElmuR",
        "outputId": "10111622-e417-4289-c45d-7f408b7f79f5"
      },
      "source": [
        "count"
      ],
      "execution_count": 51,
      "outputs": [
        {
          "output_type": "execute_result",
          "data": {
            "text/plain": [
              "1"
            ]
          },
          "metadata": {
            "tags": []
          },
          "execution_count": 51
        }
      ]
    },
    {
      "cell_type": "markdown",
      "metadata": {
        "id": "dGbRaysGLUH0"
      },
      "source": [
        "## **Worst case**"
      ]
    },
    {
      "cell_type": "code",
      "metadata": {
        "id": "_-irJTH2Avc6"
      },
      "source": [
        "man_list = ['m'+ str(i+1) for i in range(40)]\n",
        "women_list = ['w'+ str(i+1) for i in range(40)]"
      ],
      "execution_count": 37,
      "outputs": []
    },
    {
      "cell_type": "code",
      "metadata": {
        "id": "9FO4njCcC77i"
      },
      "source": [
        "hombres_preferencias = {}\n",
        "t=0\n",
        "for i in range(40):\n",
        "  number_list_1 = []\n",
        "  for j in range(39-t):\n",
        "    number_list_1.append(j+1)\n",
        "  number_list_1.append(40)\n",
        "  if t == 0:\n",
        "    hombres_preferencias['m'+str(i+1)] = number_list_1\n",
        "    t+=1\n",
        "  else:\n",
        "    nueva_lista = []\n",
        "    for j in range(39-t, 39):\n",
        "      nueva_lista.append(j+1)\n",
        "    hombres_preferencias['m'+str(i+1)] = nueva_lista+number_list_1\n",
        "    t+=1\n",
        "\n",
        "mujeres_preferencias = {}\n",
        "t=1\n",
        "for i in range(40):\n",
        "  number_list_2 = []\n",
        "  for j in range(40-t):\n",
        "    number_list_2.append(j+1)\n",
        "  nueva_lista2 = []\n",
        "  for j in range(40-t, 40):\n",
        "    nueva_lista2.append(j+1)\n",
        "  mujeres_preferencias['w'+str(i+1)] = nueva_lista2+number_list_2\n",
        "  t+=1"
      ],
      "execution_count": 38,
      "outputs": []
    },
    {
      "cell_type": "code",
      "metadata": {
        "id": "VD9lTda0_xIO"
      },
      "source": [
        "# waiting list of men that were able to create pair on each iteration\n",
        "waiting_list = []\n",
        "# dict to store created pairs\n",
        "proposals = {}\n",
        "# variable to count number of iterations\n",
        "count = 0"
      ],
      "execution_count": 39,
      "outputs": []
    },
    {
      "cell_type": "code",
      "metadata": {
        "colab": {
          "base_uri": "https://localhost:8080/",
          "height": 232
        },
        "id": "CmRT58Rn_xIO",
        "outputId": "a6d3f8d2-8287-4d54-d628-6d2c18a4ddc1"
      },
      "source": [
        "# while not all men have pairs\n",
        "numerodelman = 0\n",
        "while len(waiting_list)<len(man_list):\n",
        "    # man makes proposals\n",
        "    for man in man_list:\n",
        "        if man not in waiting_list:\n",
        "            # Todos los hombres hacen su propuesta a la mujer top de su lista, ese registro de propuestas se guarda en el diccionario proposals\n",
        "            women = women_list\n",
        "            list_of_women_man = hombres_preferencias[man]\n",
        "            posicion = 0\n",
        "            id = list_of_women_man[0]\n",
        "            for i in range(len(man_list)-1):\n",
        "              p = list_of_women_man[i+1]\n",
        "              if p<id and p!=10:\n",
        "                id = list_of_women_man[i+1]\n",
        "                posicion = i+1\n",
        "            best_choice = women[posicion]\n",
        "            list_of_man_women = mujeres_preferencias[best_choice]\n",
        "            number_woman = list_of_man_women[numerodelman]\n",
        "            proposals[(man, best_choice)]=(list_of_women_man[posicion], number_woman)\n",
        "        numerodelman+=1\n",
        "\n",
        "\n",
        "\n",
        "\n",
        "    #Cuenta la cantidad de propuestas que tiene cada mujer\n",
        "    overlays = Counter([key[1] for key in proposals.keys()])\n",
        "\n",
        "\n",
        "    #Ciclo para que la mujer escoja su mejor opción\n",
        "    for women in overlays.keys():\n",
        "        if overlays[women]>1:\n",
        "            # pairs to drop from proposals\n",
        "            pairs_to_drop = sorted({pair: proposals[pair] for pair in proposals.keys() \n",
        "                    if women in pair}.items(), \n",
        "                   key=lambda x: x[1][1]\n",
        "                  )[1:]\n",
        "            # if man was rejected by woman\n",
        "            # there is no pint for him to make proposal \n",
        "            # second time to the same woman\n",
        "            for p_to_drop in pairs_to_drop:\n",
        "                drop = list(p_to_drop)\n",
        "                eliminate = drop[0]\n",
        "                del proposals[eliminate]\n",
        "                o = 0;\n",
        "                for mujer in women_list:\n",
        "                  if eliminate[1] == mujer:\n",
        "                    break\n",
        "                  o+=1\n",
        "                hombres_preferencias[eliminate[0]][o] = 10\n",
        "\n",
        "    # man who successfully created pairs must be added to the waiting list \n",
        "    waiting_list = [man[0] for man in proposals.keys()]\n",
        "    # update counter\n",
        "    count+=1\n",
        "    numerodelman=0"
      ],
      "execution_count": 40,
      "outputs": [
        {
          "output_type": "error",
          "ename": "KeyboardInterrupt",
          "evalue": "ignored",
          "traceback": [
            "\u001b[0;31m---------------------------------------------------------------------------\u001b[0m",
            "\u001b[0;31mKeyboardInterrupt\u001b[0m                         Traceback (most recent call last)",
            "\u001b[0;32m<ipython-input-40-4d8c1e997f97>\u001b[0m in \u001b[0;36m<module>\u001b[0;34m()\u001b[0m\n\u001b[1;32m     19\u001b[0m             \u001b[0mnumber_woman\u001b[0m \u001b[0;34m=\u001b[0m \u001b[0mlist_of_man_women\u001b[0m\u001b[0;34m[\u001b[0m\u001b[0mnumerodelman\u001b[0m\u001b[0;34m]\u001b[0m\u001b[0;34m\u001b[0m\u001b[0;34m\u001b[0m\u001b[0m\n\u001b[1;32m     20\u001b[0m             \u001b[0mproposals\u001b[0m\u001b[0;34m[\u001b[0m\u001b[0;34m(\u001b[0m\u001b[0mman\u001b[0m\u001b[0;34m,\u001b[0m \u001b[0mbest_choice\u001b[0m\u001b[0;34m)\u001b[0m\u001b[0;34m]\u001b[0m\u001b[0;34m=\u001b[0m\u001b[0;34m(\u001b[0m\u001b[0mlist_of_women_man\u001b[0m\u001b[0;34m[\u001b[0m\u001b[0mposicion\u001b[0m\u001b[0;34m]\u001b[0m\u001b[0;34m,\u001b[0m \u001b[0mnumber_woman\u001b[0m\u001b[0;34m)\u001b[0m\u001b[0;34m\u001b[0m\u001b[0;34m\u001b[0m\u001b[0m\n\u001b[0;32m---> 21\u001b[0;31m         \u001b[0mnumerodelman\u001b[0m\u001b[0;34m+=\u001b[0m\u001b[0;36m1\u001b[0m\u001b[0;34m\u001b[0m\u001b[0;34m\u001b[0m\u001b[0m\n\u001b[0m\u001b[1;32m     22\u001b[0m \u001b[0;34m\u001b[0m\u001b[0m\n\u001b[1;32m     23\u001b[0m \u001b[0;34m\u001b[0m\u001b[0m\n",
            "\u001b[0;31mKeyboardInterrupt\u001b[0m: "
          ]
        }
      ]
    },
    {
      "cell_type": "code",
      "metadata": {
        "colab": {
          "base_uri": "https://localhost:8080/"
        },
        "id": "8Lvyhv51_xIQ",
        "outputId": "fdeb86e1-8591-493c-ca04-01c1c78e3e67"
      },
      "source": [
        "proposals"
      ],
      "execution_count": 41,
      "outputs": [
        {
          "output_type": "execute_result",
          "data": {
            "text/plain": [
              "{('m1', 'w1'): (10, 40),\n",
              " ('m10', 'w18'): (9, 32),\n",
              " ('m11', 'w19'): (9, 32),\n",
              " ('m12', 'w20'): (9, 32),\n",
              " ('m13', 'w21'): (9, 32),\n",
              " ('m14', 'w22'): (9, 32),\n",
              " ('m15', 'w23'): (9, 32),\n",
              " ('m16', 'w24'): (9, 32),\n",
              " ('m17', 'w25'): (9, 32),\n",
              " ('m18', 'w26'): (9, 32),\n",
              " ('m19', 'w27'): (9, 32),\n",
              " ('m2', 'w10'): (9, 32),\n",
              " ('m20', 'w28'): (9, 32),\n",
              " ('m21', 'w29'): (9, 32),\n",
              " ('m22', 'w30'): (9, 32),\n",
              " ('m23', 'w31'): (9, 32),\n",
              " ('m24', 'w32'): (9, 32),\n",
              " ('m25', 'w33'): (9, 32),\n",
              " ('m26', 'w34'): (9, 32),\n",
              " ('m27', 'w35'): (9, 32),\n",
              " ('m28', 'w36'): (9, 32),\n",
              " ('m29', 'w37'): (9, 32),\n",
              " ('m3', 'w11'): (9, 32),\n",
              " ('m30', 'w38'): (9, 32),\n",
              " ('m31', 'w39'): (9, 32),\n",
              " ('m32', 'w1'): (9, 31),\n",
              " ('m33', 'w2'): (9, 31),\n",
              " ('m34', 'w3'): (9, 31),\n",
              " ('m35', 'w4'): (9, 31),\n",
              " ('m36', 'w5'): (9, 31),\n",
              " ('m37', 'w6'): (9, 31),\n",
              " ('m38', 'w7'): (9, 31),\n",
              " ('m39', 'w8'): (9, 31),\n",
              " ('m4', 'w12'): (9, 32),\n",
              " ('m40', 'w9'): (9, 31),\n",
              " ('m5', 'w13'): (9, 32),\n",
              " ('m6', 'w14'): (9, 32),\n",
              " ('m7', 'w15'): (9, 32),\n",
              " ('m8', 'w16'): (9, 32),\n",
              " ('m9', 'w17'): (9, 32)}"
            ]
          },
          "metadata": {
            "tags": []
          },
          "execution_count": 41
        }
      ]
    },
    {
      "cell_type": "code",
      "metadata": {
        "colab": {
          "base_uri": "https://localhost:8080/"
        },
        "id": "mVUWnvs7_xIR",
        "outputId": "8b87feac-61b6-4aa1-c1e2-2982f1638e0b"
      },
      "source": [
        "count"
      ],
      "execution_count": 42,
      "outputs": [
        {
          "output_type": "execute_result",
          "data": {
            "text/plain": [
              "99145842"
            ]
          },
          "metadata": {
            "tags": []
          },
          "execution_count": 42
        }
      ]
    }
  ]
}